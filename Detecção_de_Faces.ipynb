{
  "nbformat": 4,
  "nbformat_minor": 0,
  "metadata": {
    "accelerator": "GPU",
    "colab": {
      "name": "Detecção de Faces.ipynb",
      "provenance": [],
      "authorship_tag": "ABX9TyN93IsnvJLTyNuIq/W4MzYO",
      "include_colab_link": true
    },
    "kernelspec": {
      "display_name": "Python 3",
      "name": "python3"
    },
    "language_info": {
      "name": "python"
    }
  },
  "cells": [
    {
      "cell_type": "markdown",
      "metadata": {
        "id": "view-in-github",
        "colab_type": "text"
      },
      "source": [
        "<a href=\"https://colab.research.google.com/github/filipesartori/Visao-Computacional/blob/main/Detec%C3%A7%C3%A3o_de_Faces.ipynb\" target=\"_parent\"><img src=\"https://colab.research.google.com/assets/colab-badge.svg\" alt=\"Open In Colab\"/></a>"
      ]
    },
    {
      "cell_type": "markdown",
      "metadata": {
        "id": "qgDjhjqVjJuK"
      },
      "source": [
        "# Visão Computacional: O Guia Completo - Detecção de Faces"
      ]
    },
    {
      "cell_type": "markdown",
      "metadata": {
        "id": "RNEGJBhcjO7j"
      },
      "source": [
        "# OpenCV"
      ]
    },
    {
      "cell_type": "markdown",
      "metadata": {
        "id": "knguT-5FjSmc"
      },
      "source": [
        "## Carregamento da imagem"
      ]
    },
    {
      "cell_type": "code",
      "metadata": {
        "id": "rCOh49VYkYOk"
      },
      "source": [
        "import cv2\n",
        "from google.colab.patches import cv2_imshow"
      ],
      "execution_count": null,
      "outputs": []
    },
    {
      "cell_type": "code",
      "metadata": {
        "colab": {
          "base_uri": "https://localhost:8080/"
        },
        "id": "mfaNxFmdkfzY",
        "outputId": "32422c8f-9d06-40d5-f643-bd8b7ae5809a"
      },
      "source": [
        "from google.colab import drive\n",
        "drive.mount('/content/drive')"
      ],
      "execution_count": null,
      "outputs": [
        {
          "output_type": "stream",
          "name": "stdout",
          "text": [
            "Drive already mounted at /content/drive; to attempt to forcibly remount, call drive.mount(\"/content/drive\", force_remount=True).\n"
          ]
        }
      ]
    },
    {
      "cell_type": "code",
      "metadata": {
        "id": "wf1H-RvzlzXU"
      },
      "source": [
        "imagem = cv2.imread('/content/drive/MyDrive/Cursos/Images/people1.jpg')"
      ],
      "execution_count": null,
      "outputs": []
    },
    {
      "cell_type": "code",
      "metadata": {
        "colab": {
          "background_save": true
        },
        "id": "nRbgAhell-fd"
      },
      "source": [
        "cv2_imshow(imagem)"
      ],
      "execution_count": null,
      "outputs": []
    },
    {
      "cell_type": "code",
      "metadata": {
        "colab": {
          "background_save": true
        },
        "id": "Ss8P5qnpmo5e"
      },
      "source": [
        "imagem = cv2.resize(imagem, (800, 600))\n",
        "cv2_imshow(imagem)"
      ],
      "execution_count": null,
      "outputs": []
    },
    {
      "cell_type": "code",
      "metadata": {
        "colab": {
          "background_save": true
        },
        "id": "2evtmqOWnhXQ"
      },
      "source": [
        "imagem_cinza = cv2.cvtColor(imagem, cv2.COLOR_BGR2GRAY)\n",
        "cv2_imshow(imagem_cinza)"
      ],
      "execution_count": null,
      "outputs": []
    },
    {
      "cell_type": "markdown",
      "metadata": {
        "id": "_GnBM-sIjWuP"
      },
      "source": [
        "## Detecção de faces"
      ]
    },
    {
      "cell_type": "code",
      "metadata": {
        "colab": {
          "background_save": true
        },
        "id": "3zZle5XLogb4"
      },
      "source": [
        "detector = cv2.CascadeClassifier('/content/drive/MyDrive/Cursos/Cascades/haarcascade_frontalface_default.xml')"
      ],
      "execution_count": null,
      "outputs": []
    },
    {
      "cell_type": "code",
      "metadata": {
        "colab": {
          "background_save": true
        },
        "id": "a3ZRT6feo5w-"
      },
      "source": [
        "deteccoes = detector.detectMultiScale(imagem_cinza) "
      ],
      "execution_count": null,
      "outputs": []
    },
    {
      "cell_type": "code",
      "metadata": {
        "colab": {
          "background_save": true
        },
        "id": "DKkwm0UKpcqa"
      },
      "source": [
        "for x, y, w, h in deteccoes:\n",
        "  cv2.rectangle(imagem, (x, y), (x + w, y + h), (0,255,255))\n",
        "\n",
        "cv2_imshow(imagem)"
      ],
      "execution_count": null,
      "outputs": []
    },
    {
      "cell_type": "markdown",
      "metadata": {
        "id": "Y8rahWJUjaOk"
      },
      "source": [
        "## Parâmetros haarcascades"
      ]
    },
    {
      "cell_type": "code",
      "metadata": {
        "colab": {
          "background_save": true
        },
        "id": "cOvZ7wwWrAvt"
      },
      "source": [
        "imagem = cv2.imread('/content/drive/MyDrive/Cursos/Images/people1.jpg')\n",
        "imagem = cv2.resize(imagem, (800, 600))\n",
        "imagem_cinza = cv2.cvtColor(imagem, cv2.COLOR_BGR2GRAY)\n",
        "deteccoes = detector.detectMultiScale(imagem_cinza, scaleFactor=1.08)\n",
        "for (x, y, w, h) in deteccoes:\n",
        "  cv2.rectangle(imagem, (x, y), (x + w, y + h), (255,255,0), 2)\n",
        "cv2_imshow(imagem)"
      ],
      "execution_count": null,
      "outputs": []
    },
    {
      "cell_type": "code",
      "metadata": {
        "colab": {
          "background_save": true
        },
        "id": "hqF4POp2tCYr"
      },
      "source": [
        "imagem = cv2.imread('/content/drive/MyDrive/Cursos/Images/people2.jpg')\n",
        "imagem_cinza = cv2.cvtColor(imagem, cv2.COLOR_BGR2GRAY)\n",
        "deteccoes = detector.detectMultiScale(imagem_cinza, scaleFactor=1.2, minNeighbors=3,\n",
        "                                      minSize = (32, 32))\n",
        "for (x, y, w, h) in deteccoes:\n",
        "  cv2.rectangle(imagem, (x, y), (x + w, y + h), (0,255,0), 2)\n",
        "cv2_imshow(imagem)"
      ],
      "execution_count": null,
      "outputs": []
    },
    {
      "cell_type": "markdown",
      "metadata": {
        "id": "SmewnO9WjebQ"
      },
      "source": [
        "## Detecção de olhos"
      ]
    },
    {
      "cell_type": "code",
      "metadata": {
        "colab": {
          "background_save": true
        },
        "id": "j2cq7PZfveGQ"
      },
      "source": [
        "detector_olho = cv2.CascadeClassifier('/content/drive/MyDrive/Cursos/Cascades/haarcascade_eye.xml')"
      ],
      "execution_count": null,
      "outputs": []
    },
    {
      "cell_type": "code",
      "metadata": {
        "colab": {
          "background_save": true
        },
        "id": "300Ow1MivGIe"
      },
      "source": [
        "imagem = cv2.imread('/content/drive/MyDrive/Cursos/Images/people1.jpg')\n",
        "#imagem = cv2.resize(imagem, (800, 600))\n",
        "imagem_cinza = cv2.cvtColor(imagem, cv2.COLOR_BGR2GRAY)\n",
        "\n",
        "deteccoes = detector.detectMultiScale(imagem_cinza, scaleFactor=1.3, minSize = (30, 30))\n",
        "for (x, y, w, h) in deteccoes:\n",
        "  cv2.rectangle(imagem, (x, y), (x + w, y + h), (0,255,0), 2)\n",
        "\n",
        "deteccoes_olhos = detector_olho.detectMultiScale(imagem_cinza, scaleFactor=1.09, minNeighbors=10, maxSize=(70, 70))\n",
        "for x, y, w, h in deteccoes_olhos:\n",
        "  cv2.rectangle(imagem, (x, y), (x + w, y + h), (192,50,87), 2)  \n",
        "cv2_imshow(imagem)"
      ],
      "execution_count": null,
      "outputs": []
    },
    {
      "cell_type": "markdown",
      "metadata": {
        "id": "aL2vE101jhtr"
      },
      "source": [
        "## Outros objetos"
      ]
    },
    {
      "cell_type": "markdown",
      "metadata": {
        "id": "t2oPBTovjlE2"
      },
      "source": [
        "### Carros"
      ]
    },
    {
      "cell_type": "code",
      "metadata": {
        "colab": {
          "background_save": true
        },
        "id": "ZGjJciVqx384"
      },
      "source": [
        "imagem_carro = cv2.imread('/content/drive/MyDrive/Cursos/Images/car.jpg')\n",
        "#imagem_carro = cv2.resize(imagem_carro, (800, 600))\n",
        "imagem_cinza_carro = cv2.cvtColor(imagem_carro, cv2.COLOR_BGR2GRAY)\n",
        "\n",
        "detector_carro = cv2.CascadeClassifier('/content/drive/MyDrive/Cursos/Cascades/cars.xml')\n",
        "\n",
        "deteccoes = detector_carro.detectMultiScale(imagem_cinza_carro, scaleFactor=1.02, minNeighbors=7)\n",
        "for (x, y, w, h) in deteccoes:\n",
        "  #print(w, h)\n",
        "  cv2.rectangle(imagem_carro, (x, y), (x + w, y + h), (0,255,0), 2)\n",
        "cv2_imshow(imagem_carro)  "
      ],
      "execution_count": null,
      "outputs": []
    },
    {
      "cell_type": "markdown",
      "metadata": {
        "id": "DYXmdOEJjqWN"
      },
      "source": [
        "### Relógios"
      ]
    },
    {
      "cell_type": "code",
      "metadata": {
        "colab": {
          "background_save": true
        },
        "id": "u6p0WcGvR1oF"
      },
      "source": [
        "imagem_relogio = cv2.imread('/content/drive/MyDrive/Cursos/Images/clock.jpg')\n",
        "#imagem_carro = cv2.resize(imagem_carro, (800, 600))\n",
        "imagem_cinza_relogio = cv2.cvtColor(imagem_relogio, cv2.COLOR_BGR2GRAY)\n",
        "\n",
        "detector_relogio = cv2.CascadeClassifier('/content/drive/MyDrive/Cursos/Cascades/clocks.xml')\n",
        "\n",
        "deteccoes = detector_relogio.detectMultiScale(imagem_cinza_relogio, scaleFactor=1.03, minNeighbors=1)\n",
        "for (x, y, w, h) in deteccoes:\n",
        "  #print(w, h)\n",
        "  cv2.rectangle(imagem_relogio, (x, y), (x + w, y + h), (0,255,0), 2)\n",
        "cv2_imshow(imagem_relogio)  "
      ],
      "execution_count": null,
      "outputs": []
    },
    {
      "cell_type": "markdown",
      "metadata": {
        "id": "U7b_dh1IjuC0"
      },
      "source": [
        "### Corpo Inteiro"
      ]
    },
    {
      "cell_type": "code",
      "metadata": {
        "colab": {
          "background_save": true
        },
        "id": "3YUUsnxiTHKp"
      },
      "source": [
        "imagem_corpo = cv2.imread('/content/drive/MyDrive/Cursos/Images/people3.jpg')\n",
        "#imagem_carro = cv2.resize(imagem_carro, (800, 600))\n",
        "imagem_cinza_corpo = cv2.cvtColor(imagem_corpo, cv2.COLOR_BGR2GRAY)\n",
        "\n",
        "detector_corpo = cv2.CascadeClassifier('/content/drive/MyDrive/Cursos/Cascades/fullbody.xml')\n",
        "\n",
        "deteccoes = detector_corpo.detectMultiScale(imagem_cinza_corpo, scaleFactor=1.009, minNeighbors=3, minSize=(60,60) )\n",
        "for (x, y, w, h) in deteccoes:\n",
        "  print(w, h)\n",
        "  cv2.rectangle(imagem_corpo, (x, y), (x + w, y + h), (0,255,0), 2)\n",
        "cv2_imshow(imagem_corpo)  "
      ],
      "execution_count": null,
      "outputs": []
    },
    {
      "cell_type": "markdown",
      "metadata": {
        "id": "d4fxbkcRjx_4"
      },
      "source": [
        "# Dlib"
      ]
    },
    {
      "cell_type": "code",
      "metadata": {
        "id": "6x42E1Y_WH3C"
      },
      "source": [
        "import dlib"
      ],
      "execution_count": null,
      "outputs": []
    },
    {
      "cell_type": "markdown",
      "metadata": {
        "id": "rtoCCXbwjz_9"
      },
      "source": [
        "## Detecção de faces com HOG"
      ]
    },
    {
      "cell_type": "code",
      "metadata": {
        "id": "zNMH_HSaWPYD"
      },
      "source": [
        "imagem = cv2.imread('/content/drive/MyDrive/Cursos/Images/people2.jpg')"
      ],
      "execution_count": null,
      "outputs": []
    },
    {
      "cell_type": "code",
      "metadata": {
        "id": "XxCBvNA7Wb5M"
      },
      "source": [
        "detector_hog = dlib.get_frontal_face_detector()"
      ],
      "execution_count": null,
      "outputs": []
    },
    {
      "cell_type": "code",
      "metadata": {
        "id": "7R7zb8E1WleX"
      },
      "source": [
        "deteccoes = detector_hog(imagem, 1)"
      ],
      "execution_count": null,
      "outputs": []
    },
    {
      "cell_type": "code",
      "metadata": {
        "id": "H-i7lHu0XGMr"
      },
      "source": [
        "for face in deteccoes:\n",
        "  l, t, r, b = face.left(), face.top(), face.right(), face.bottom()\n",
        "  cv2.rectangle(imagem, (l, t), (r, b), (0,255,255), 2)\n",
        "cv2_imshow(imagem)  "
      ],
      "execution_count": null,
      "outputs": []
    },
    {
      "cell_type": "markdown",
      "metadata": {
        "id": "qXqWoUMQj2Kf"
      },
      "source": [
        "## Detecção de faces com CNN (redes neurais convolucionais)"
      ]
    },
    {
      "cell_type": "code",
      "metadata": {
        "id": "6Ipde_bDYKRL"
      },
      "source": [
        "imagem = cv2.imread('/content/drive/MyDrive/Cursos/Images/people2.jpg')\n",
        "detector_cnn = dlib.cnn_face_detection_model_v1('/content/drive/MyDrive/Cursos/Weights/mmod_human_face_detector.dat')"
      ],
      "execution_count": null,
      "outputs": []
    },
    {
      "cell_type": "code",
      "metadata": {
        "id": "CXMqaYhaZD96"
      },
      "source": [
        "deteccoes = detector_cnn(imagem, 2)\n",
        "\n",
        "for face in deteccoes:\n",
        "  l, t, r, b, c = face.rect.left(), face.rect.top(), face.rect.right(), face.rect.bottom(), face.confidence\n",
        "  cv2.rectangle(imagem, (l, t), (r, b), (0,255,255), 2)\n",
        "cv2_imshow(imagem)"
      ],
      "execution_count": null,
      "outputs": []
    },
    {
      "cell_type": "markdown",
      "metadata": {
        "id": "U1wdumCMj4mj"
      },
      "source": [
        "# Haarcascade x HOG x CNN"
      ]
    },
    {
      "cell_type": "markdown",
      "metadata": {
        "id": "F7PiYdGJj6x3"
      },
      "source": [
        "### Haarcascade"
      ]
    },
    {
      "cell_type": "code",
      "metadata": {
        "id": "cZ9NssmwbVLR"
      },
      "source": [
        "#Haarcascade\n",
        "imagem_haar = cv2.imread('/content/drive/MyDrive/Cursos/minhas imagens/pessoas2.jpg')\n",
        "imagem_haar = cv2.resize(imagem_haar, (800, 600))\n",
        "imagem_cinza_haar = cv2.cvtColor(imagem_haar, cv2.COLOR_BGR2GRAY)\n",
        "\n",
        "detector_haar = cv2.CascadeClassifier('/content/drive/MyDrive/Cursos/Cascades/haarcascade_frontalface_default.xml')\n",
        "\n",
        "deteccoes = detector_haar.detectMultiScale(imagem_cinza_haar)\n",
        "for (x, y, w, h) in deteccoes:\n",
        "  #print(w, h)\n",
        "  cv2.rectangle(imagem_haar, (x, y), (x + w, y + h), (0,255,0), 2)\n",
        "cv2_imshow(imagem_haar)"
      ],
      "execution_count": null,
      "outputs": []
    },
    {
      "cell_type": "markdown",
      "metadata": {
        "id": "uHRVljMdj9iq"
      },
      "source": [
        "### HOG"
      ]
    },
    {
      "cell_type": "code",
      "metadata": {
        "id": "akuhmjn1Hu9H"
      },
      "source": [
        "import dlib\n",
        "\n",
        "imagem = cv2.imread('/content/drive/MyDrive/Cursos/minhas imagens/pessoas2.jpg')\n",
        "imagem = cv2.resize(imagem, (800, 600))\n",
        "detector_hog = dlib.get_frontal_face_detector()\n",
        "deteccoes = detector_hog(imagem, 1)\n",
        "\n",
        "for face in deteccoes:\n",
        "  l, t, r, b = face.left(), face.top(), face.right(), face.bottom()\n",
        "  cv2.rectangle(imagem, (l, t), (r, b), (0,255,255), 2)\n",
        "cv2_imshow(imagem) "
      ],
      "execution_count": null,
      "outputs": []
    },
    {
      "cell_type": "markdown",
      "metadata": {
        "id": "qUH0XpACj_td"
      },
      "source": [
        "### CNN"
      ]
    },
    {
      "cell_type": "code",
      "metadata": {
        "id": "DtEo6N1bIHsp"
      },
      "source": [
        "imagem = cv2.imread('/content/drive/MyDrive/Cursos/minhas imagens/pessoas2.jpg')\n",
        "imagem = cv2.resize(imagem, (800, 600))\n",
        "detector_cnn = dlib.cnn_face_detection_model_v1('/content/drive/MyDrive/Cursos/Weights/mmod_human_face_detector.dat')\n",
        "deteccoes = detector_cnn(imagem, 1)\n",
        "\n",
        "for face in deteccoes:\n",
        "  l, t, r, b, c = face.rect.left(), face.rect.top(), face.rect.right(), face.rect.bottom(), face.confidence\n",
        "  cv2.rectangle(imagem, (l, t), (r, b), (0,255,255), 2)\n",
        "cv2_imshow(imagem)"
      ],
      "execution_count": null,
      "outputs": []
    }
  ]
}